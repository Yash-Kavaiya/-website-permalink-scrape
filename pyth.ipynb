{
 "cells": [
  {
   "cell_type": "code",
   "execution_count": 6,
   "metadata": {},
   "outputs": [
    {
     "name": "stdout",
     "output_type": "stream",
     "text": [
      "[]\n"
     ]
    }
   ],
   "source": [
    "import requests\n",
    "from bs4 import BeautifulSoup\n",
    "import csv\n",
    "\n",
    "# URL of the website\n",
    "url = 'https://class10it.blogspot.com/'\n",
    "\n",
    "import requests\n",
    "from bs4 import BeautifulSoup\n",
    "\n",
    "html = requests.get(url).content\n",
    "soup = BeautifulSoup(html, \"html.parser\")\n",
    "\n",
    "# Find all <a> in your HTML that have a not null 'href'. Keep only 'href'.\n",
    "links = [a[\"href\"] for a in soup.find_all(\"a\", href=True)]\n",
    "print(links)"
   ]
  },
  {
   "cell_type": "code",
   "execution_count": 7,
   "metadata": {},
   "outputs": [],
   "source": [
    "import requests\n",
    "from bs4 import BeautifulSoup\n",
    "\n",
    "def get_all_links(url):\n",
    "    response = requests.get(url)\n",
    "    soup = BeautifulSoup(response.text, 'html.parser')\n",
    "    links = []\n",
    "    for a_tag in soup.find_all('a'):\n",
    "        href = a_tag['href']\n",
    "    if href and href.startswith('https://class10it.blogspot.com/'):\n",
    "        links.append(href)\n",
    "    return links\n",
    "\n"
   ]
  },
  {
   "cell_type": "code",
   "execution_count": 8,
   "metadata": {},
   "outputs": [
    {
     "ename": "UnboundLocalError",
     "evalue": "local variable 'href' referenced before assignment",
     "output_type": "error",
     "traceback": [
      "\u001b[0;31m---------------------------------------------------------------------------\u001b[0m",
      "\u001b[0;31mUnboundLocalError\u001b[0m                         Traceback (most recent call last)",
      "\u001b[1;32m/workspaces/-website-permalink-scrape/pyth.ipynb Cell 3\u001b[0m line \u001b[0;36m2\n\u001b[1;32m      <a href='vscode-notebook-cell://codespaces%2Bsuper-duper-space-fiesta-7jjxrqv4gww2www7/workspaces/-website-permalink-scrape/pyth.ipynb#W2sdnNjb2RlLXJlbW90ZQ%3D%3D?line=0'>1</a>\u001b[0m url \u001b[39m=\u001b[39m \u001b[39m'\u001b[39m\u001b[39mhttps://class10it.blogspot.com/\u001b[39m\u001b[39m'\u001b[39m\n\u001b[0;32m----> <a href='vscode-notebook-cell://codespaces%2Bsuper-duper-space-fiesta-7jjxrqv4gww2www7/workspaces/-website-permalink-scrape/pyth.ipynb#W2sdnNjb2RlLXJlbW90ZQ%3D%3D?line=1'>2</a>\u001b[0m links \u001b[39m=\u001b[39m get_all_links(url)\n",
      "\u001b[1;32m/workspaces/-website-permalink-scrape/pyth.ipynb Cell 3\u001b[0m line \u001b[0;36m1\n\u001b[1;32m      <a href='vscode-notebook-cell://codespaces%2Bsuper-duper-space-fiesta-7jjxrqv4gww2www7/workspaces/-website-permalink-scrape/pyth.ipynb#W2sdnNjb2RlLXJlbW90ZQ%3D%3D?line=7'>8</a>\u001b[0m \u001b[39mfor\u001b[39;00m a_tag \u001b[39min\u001b[39;00m soup\u001b[39m.\u001b[39mfind_all(\u001b[39m'\u001b[39m\u001b[39ma\u001b[39m\u001b[39m'\u001b[39m):\n\u001b[1;32m      <a href='vscode-notebook-cell://codespaces%2Bsuper-duper-space-fiesta-7jjxrqv4gww2www7/workspaces/-website-permalink-scrape/pyth.ipynb#W2sdnNjb2RlLXJlbW90ZQ%3D%3D?line=8'>9</a>\u001b[0m     href \u001b[39m=\u001b[39m a_tag[\u001b[39m'\u001b[39m\u001b[39mhref\u001b[39m\u001b[39m'\u001b[39m]\n\u001b[0;32m---> <a href='vscode-notebook-cell://codespaces%2Bsuper-duper-space-fiesta-7jjxrqv4gww2www7/workspaces/-website-permalink-scrape/pyth.ipynb#W2sdnNjb2RlLXJlbW90ZQ%3D%3D?line=9'>10</a>\u001b[0m \u001b[39mif\u001b[39;00m href \u001b[39mand\u001b[39;00m href\u001b[39m.\u001b[39mstartswith(\u001b[39m'\u001b[39m\u001b[39mhttps://class10it.blogspot.com/\u001b[39m\u001b[39m'\u001b[39m):\n\u001b[1;32m     <a href='vscode-notebook-cell://codespaces%2Bsuper-duper-space-fiesta-7jjxrqv4gww2www7/workspaces/-website-permalink-scrape/pyth.ipynb#W2sdnNjb2RlLXJlbW90ZQ%3D%3D?line=10'>11</a>\u001b[0m     links\u001b[39m.\u001b[39mappend(href)\n\u001b[1;32m     <a href='vscode-notebook-cell://codespaces%2Bsuper-duper-space-fiesta-7jjxrqv4gww2www7/workspaces/-website-permalink-scrape/pyth.ipynb#W2sdnNjb2RlLXJlbW90ZQ%3D%3D?line=11'>12</a>\u001b[0m \u001b[39mreturn\u001b[39;00m links\n",
      "\u001b[0;31mUnboundLocalError\u001b[0m: local variable 'href' referenced before assignment"
     ]
    }
   ],
   "source": [
    "url = 'https://class10it.blogspot.com/'\n",
    "links = get_all_links(url)"
   ]
  },
  {
   "cell_type": "code",
   "execution_count": null,
   "metadata": {},
   "outputs": [],
   "source": [
    "for link in links:\n",
    "    print(link)"
   ]
  },
  {
   "cell_type": "code",
   "execution_count": null,
   "metadata": {},
   "outputs": [
    {
     "data": {
      "text/plain": [
       "[]"
      ]
     },
     "execution_count": 5,
     "metadata": {},
     "output_type": "execute_result"
    }
   ],
   "source": [
    "links"
   ]
  },
  {
   "cell_type": "code",
   "execution_count": null,
   "metadata": {},
   "outputs": [],
   "source": []
  }
 ],
 "metadata": {
  "kernelspec": {
   "display_name": "Python 3",
   "language": "python",
   "name": "python3"
  },
  "language_info": {
   "codemirror_mode": {
    "name": "ipython",
    "version": 3
   },
   "file_extension": ".py",
   "mimetype": "text/x-python",
   "name": "python",
   "nbconvert_exporter": "python",
   "pygments_lexer": "ipython3",
   "version": "3.10.13"
  }
 },
 "nbformat": 4,
 "nbformat_minor": 2
}
